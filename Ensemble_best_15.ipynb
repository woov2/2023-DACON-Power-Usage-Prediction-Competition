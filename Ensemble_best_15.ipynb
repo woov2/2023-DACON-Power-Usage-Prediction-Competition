{
 "cells": [
  {
   "cell_type": "code",
   "execution_count": 1,
   "id": "86f31ab6",
   "metadata": {},
   "outputs": [],
   "source": [
    "import pandas as pd\n",
    "import numpy as np"
   ]
  },
  {
   "cell_type": "code",
   "execution_count": 2,
   "id": "046ff7f7",
   "metadata": {},
   "outputs": [],
   "source": [
    "submission = pd.read_csv('./data/sample_submission.csv')\n",
    "lgb_pred = pd.read_csv('./submission/single/lgb7_loss_ensemble_finalclip.csv')['answer']\n",
    "xgb_pred = pd.read_csv('./submission/single/XGB_loss_ensemble_finalclip.csv')['answer']"
   ]
  },
  {
   "cell_type": "code",
   "execution_count": 3,
   "id": "3d3be37d",
   "metadata": {},
   "outputs": [
    {
     "data": {
      "text/plain": [
       "0        1806.232484\n",
       "1        1729.948784\n",
       "2        1572.508415\n",
       "3        1509.933924\n",
       "4        1518.204093\n",
       "            ...     \n",
       "16795     896.941728\n",
       "16796     812.475181\n",
       "16797     746.454084\n",
       "16798     620.223970\n",
       "16799     526.696278\n",
       "Name: answer, Length: 16800, dtype: float64"
      ]
     },
     "execution_count": 3,
     "metadata": {},
     "output_type": "execute_result"
    }
   ],
   "source": [
    "submission['answer'] = lgb_pred * 0.5 + xgb_pred * 0.5\n",
    "submission['answer']"
   ]
  },
  {
   "cell_type": "code",
   "execution_count": 4,
   "id": "879706cb",
   "metadata": {},
   "outputs": [],
   "source": [
    "submission.to_csv('./submission/ensemble/lgb_xgb_es15.csv', index = False)"
   ]
  },
  {
   "cell_type": "code",
   "execution_count": null,
   "id": "b2995099",
   "metadata": {},
   "outputs": [],
   "source": []
  },
  {
   "cell_type": "code",
   "execution_count": null,
   "id": "c369e30e",
   "metadata": {},
   "outputs": [],
   "source": []
  },
  {
   "cell_type": "code",
   "execution_count": null,
   "id": "9a868ecb",
   "metadata": {},
   "outputs": [],
   "source": []
  },
  {
   "cell_type": "code",
   "execution_count": null,
   "id": "79000491",
   "metadata": {},
   "outputs": [],
   "source": []
  }
 ],
 "metadata": {
  "kernelspec": {
   "display_name": "Python 3 (ipykernel)",
   "language": "python",
   "name": "python3"
  },
  "language_info": {
   "codemirror_mode": {
    "name": "ipython",
    "version": 3
   },
   "file_extension": ".py",
   "mimetype": "text/x-python",
   "name": "python",
   "nbconvert_exporter": "python",
   "pygments_lexer": "ipython3",
   "version": "3.8.5"
  }
 },
 "nbformat": 4,
 "nbformat_minor": 5
}
